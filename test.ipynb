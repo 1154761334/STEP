{
 "cells": [
  {
   "cell_type": "markdown",
   "id": "6a44d310-b520-43ea-b8fc-23b3cf5e032d",
   "metadata": {},
   "source": [
    "## 💿 Requirements\n",
    "\n",
    "The code is built based on Python 3.9, PyTorch 1.10.0, and [EasyTorch](https://github.com/cnstark/easytorch).\n",
    "You can install PyTorch following the instruction in [PyTorch](https://pytorch.org/get-started/locally/). For example:\n",
    "\n",
    "```bash\n",
    "pip install torch==1.10.0+cu111 torchvision==0.11.0+cu111 torchaudio==0.10.0 -f https://download.pytorch.org/whl/torch_stable.html\n",
    "```\n",
    "\n",
    "After ensuring that PyTorch is installed correctly, you can install other dependencies via:\n",
    "\n",
    "```bash\n",
    "pip install -r requirements.txt\n",
    "```"
   ]
  },
  {
   "cell_type": "code",
   "execution_count": null,
   "id": "57e00c0f",
   "metadata": {},
   "outputs": [],
   "source": [
    "!pip install -r requirements.txt"
   ]
  },
  {
   "cell_type": "markdown",
   "id": "54b835e0",
   "metadata": {},
   "source": [
    "\n",
    "# Data Preparation\n",
    "\n",
    "## Download Raw Data\n",
    "\n",
    "You can download all the raw datasets at [Google Drive](https://drive.google.com/file/d/1PY7IZ3SchpyXfNIXs71A2GEV29W5QCv2/view?usp=sharing) or [Baidu Yun](https://pan.baidu.com/s/1CXLxeHxHIMWLy3IKGFUq8g?pwd=blf8), and unzip them to `datasets/raw_data/`.\n",
    "\n",
    "## Pre-process Data\n",
    "\n",
    "You can pre-process all data via:\n",
    "\n",
    "```bash\n",
    "cd /path/to/your/project\n",
    "bash scripts/data_preparation/all.sh\n",
    "```\n",
    "\n",
    "Then the `dataset` directory will look like this:\n",
    "\n",
    "```text\n",
    "datasets\n",
    "   ├─METR-LA\n",
    "   ├─METR-BAY\n",
    "   ├─PEMS04\n",
    "   ├─raw_data\n",
    "   |    ├─PEMS04\n",
    "   |    ├─PEMS-BAY\n",
    "   |    ├─METR-LA\n",
    "   ├─README.md\n",
    "```\n"
   ]
  },
  {
   "cell_type": "code",
   "execution_count": 1,
   "id": "55d4de58-b02a-4a76-b3cc-3716c887bdb8",
   "metadata": {},
   "outputs": [
    {
     "name": "stdout",
     "output_type": "stream",
     "text": [
      "----------------------------------------------------------------------\n",
      "|      data_file_path = datasets/raw_data/METR-LA/METR-LA.h5         |\n",
      "|                 dow = True                                         |\n",
      "|      future_seq_len = 12                                           |\n",
      "|     graph_file_path = datasets/raw_data/METR-LA/adj_METR-LA.pkl    |\n",
      "|     history_seq_len = 12                                           |\n",
      "|          output_dir = datasets/METR-LA                             |\n",
      "|      target_channel = [0]                                          |\n",
      "|                 tod = True                                         |\n",
      "|         train_ratio = 0.7                                          |\n",
      "|         valid_ratio = 0.1                                          |\n",
      "----------------------------------------------------------------------\n",
      "raw time series shape: (34272, 207, 1)\n",
      "number of training samples:23974\n",
      "number of validation samples:3425\n",
      "number of test samples:6850\n",
      "mean (training data): 54.40552365611337\n",
      "std (training data): 19.494882160412384\n",
      "----------------------------------------------------------------------\n",
      "|      data_file_path = datasets/raw_data/METR-LA/METR-LA.h5         |\n",
      "|                 dow = True                                         |\n",
      "|      future_seq_len = 12                                           |\n",
      "|     graph_file_path = datasets/raw_data/METR-LA/adj_METR-LA.pkl    |\n",
      "|     history_seq_len = 2016                                         |\n",
      "|          output_dir = datasets/METR-LA                             |\n",
      "|      target_channel = [0]                                          |\n",
      "|                 tod = True                                         |\n",
      "|         train_ratio = 0.7                                          |\n",
      "|         valid_ratio = 0.1                                          |\n",
      "----------------------------------------------------------------------\n",
      "raw time series shape: (34272, 207, 1)\n",
      "number of training samples:21970\n",
      "number of validation samples:3425\n",
      "number of test samples:6850\n",
      "mean (training data): 54.40552365611337\n",
      "std (training data): 19.494882160412384\n",
      "----------------------------------------------------------------------\n",
      "|      data_file_path = datasets/raw_data/PEMS-BAY/PEMS-BAY.h5       |\n",
      "|                 dow = True                                         |\n",
      "|      future_seq_len = 12                                           |\n",
      "|     graph_file_path = datasets/raw_data/PEMS-BAY/adj_PEMS-BAY.pkl  |\n",
      "|     history_seq_len = 12                                           |\n",
      "|          output_dir = datasets/PEMS-BAY                            |\n",
      "|      target_channel = [0]                                          |\n",
      "|                 tod = True                                         |\n",
      "|         train_ratio = 0.7                                          |\n",
      "|         valid_ratio = 0.1                                          |\n",
      "----------------------------------------------------------------------\n",
      "raw time series shape: (52116, 325, 1)\n",
      "number of training samples:36465\n",
      "number of validation samples:5209\n",
      "number of test samples:10419\n",
      "mean (training data): 62.73669922477996\n",
      "std (training data): 9.43724126602455\n",
      "----------------------------------------------------------------------\n",
      "|      data_file_path = datasets/raw_data/PEMS-BAY/PEMS-BAY.h5       |\n",
      "|                 dow = True                                         |\n",
      "|      future_seq_len = 12                                           |\n",
      "|     graph_file_path = datasets/raw_data/PEMS-BAY/adj_PEMS-BAY.pkl  |\n",
      "|     history_seq_len = 2016                                         |\n",
      "|          output_dir = datasets/PEMS-BAY                            |\n",
      "|      target_channel = [0]                                          |\n",
      "|                 tod = True                                         |\n",
      "|         train_ratio = 0.7                                          |\n",
      "|         valid_ratio = 0.1                                          |\n",
      "----------------------------------------------------------------------\n",
      "raw time series shape: (52116, 325, 1)\n",
      "number of training samples:34461\n",
      "number of validation samples:5209\n",
      "number of test samples:10419\n",
      "mean (training data): 62.73669922477996\n",
      "std (training data): 9.43724126602455\n",
      "----------------------------------------------------------------------\n",
      "|      data_file_path = datasets/raw_data/PEMS04/PEMS04.npz          |\n",
      "|                 dow = True                                         |\n",
      "|      future_seq_len = 12                                           |\n",
      "|     graph_file_path = datasets/raw_data/PEMS04/adj_PEMS04.pkl      |\n",
      "|     history_seq_len = 12                                           |\n",
      "|          output_dir = datasets/PEMS04                              |\n",
      "|       steps_per_day = 288                                          |\n",
      "|      target_channel = [0]                                          |\n",
      "|                 tod = True                                         |\n",
      "|         train_ratio = 0.6                                          |\n",
      "|         valid_ratio = 0.2                                          |\n",
      "----------------------------------------------------------------------\n",
      "raw time series shape: (16992, 307, 1)\n",
      "number of training samples:10181\n",
      "number of validation samples:3394\n",
      "number of test samples:3394\n",
      "mean (training data): 207.21009963744956\n",
      "std (training data): 156.48002643540894\n",
      "----------------------------------------------------------------------\n",
      "|      data_file_path = datasets/raw_data/PEMS04/PEMS04.npz          |\n",
      "|                 dow = True                                         |\n",
      "|      future_seq_len = 12                                           |\n",
      "|     graph_file_path = datasets/raw_data/PEMS04/adj_PEMS04.pkl      |\n",
      "|     history_seq_len = 4032                                         |\n",
      "|          output_dir = datasets/PEMS04                              |\n",
      "|       steps_per_day = 288                                          |\n",
      "|      target_channel = [0]                                          |\n",
      "|                 tod = True                                         |\n",
      "|         train_ratio = 0.6                                          |\n",
      "|         valid_ratio = 0.2                                          |\n",
      "----------------------------------------------------------------------\n",
      "raw time series shape: (16992, 307, 1)\n",
      "number of training samples:6161\n",
      "number of validation samples:3394\n",
      "number of test samples:3394\n",
      "mean (training data): 207.21009963744956\n",
      "std (training data): 156.48002643540894\n"
     ]
    }
   ],
   "source": [
    "!python scripts/data_preparation/METR-LA/generate_training_data.py --history_seq_len 12\n",
    "!python scripts/data_preparation/METR-LA/generate_training_data.py --history_seq_len 2016\n",
    "!python scripts/data_preparation/PEMS-BAY/generate_training_data.py --history_seq_len 12\n",
    "!python scripts/data_preparation/PEMS-BAY/generate_training_data.py --history_seq_len 2016\n",
    "!python scripts/data_preparation/PEMS04/generate_training_data.py --history_seq_len 12\n",
    "!python scripts/data_preparation/PEMS04/generate_training_data.py --history_seq_len 4032"
   ]
  },
  {
   "cell_type": "markdown",
   "id": "2459d6ba-440f-4d9b-94ed-6371a17ac2fd",
   "metadata": {},
   "source": [
    "## <span id=\"jump\"> 🎯 Train STEP based on a Pre-trained TSFormer </span>\n",
    "\n",
    "```bash\n",
    "python step/run.py --cfg='step/STEP_$DATASET.py' --gpus='0, 1'\n",
    "# python step/run.py --cfg='step/STEP_METR-LA.py' --gpus='0, 1'\n",
    "# python step/run.py --cfg='step/STEP_PEMS-BAY.py' --gpus='0, 1'\n",
    "# python step/run.py --cfg='step/STEP_PEMS04.py' --gpus='0, 1'\n",
    "```\n",
    "\n",
    "Replace `$DATASET_NAME` with one of `METR-LA`, `PEMS-BAY`, `PEMS04` as shown in the code above. \n",
    "Configuration file `step/STEP_$DATASET.py` describes the forecasting configurations.\n",
    "Edit `BATCH_SIZE` and `GPU_NUM` in the configuration file and `--gpu` in the command line to run on your own hardware.\n",
    "Note that different GPU number leads to different real batch sizes, affecting the learning rate setting and the forecasting accuracy.\n",
    "\n",
    "Our training logs are shown in [training_logs/STEP_METR-LA.log](./training_logs/STEP_METR-LA.log), [training_logs/STEP_METR-LA.log](./training_logs/STEP_METR-LA.log) and [training_logs/STEP_PEMS-BAY.log](./training_logs/STEP_PEMS-BAY.log).\n"
   ]
  },
  {
   "cell_type": "code",
   "execution_count": 2,
   "id": "4d82575a-7f3c-49ff-899b-b378d67ffda1",
   "metadata": {},
   "outputs": [
    {
     "name": "stderr",
     "output_type": "stream",
     "text": [
      "D:\\python-venv\\STEP\\venv\\lib\\site-packages\\tqdm\\auto.py:22: TqdmWarning: IProgress not found. Please update jupyter and ipywidgets. See https://ipywidgets.readthedocs.io/en/stable/user_install.html\n",
      "  from .autonotebook import tqdm as notebook_tqdm\n"
     ]
    },
    {
     "name": "stdout",
     "output_type": "stream",
     "text": [
      "False\n",
      "0\n"
     ]
    },
    {
     "ename": "AssertionError",
     "evalue": "Torch not compiled with CUDA enabled",
     "output_type": "error",
     "traceback": [
      "\u001B[1;31m---------------------------------------------------------------------------\u001B[0m",
      "\u001B[1;31mAssertionError\u001B[0m                            Traceback (most recent call last)",
      "Cell \u001B[1;32mIn[2], line 9\u001B[0m\n\u001B[0;32m      6\u001B[0m \u001B[38;5;28mprint\u001B[39m(torch\u001B[38;5;241m.\u001B[39mcuda\u001B[38;5;241m.\u001B[39mdevice_count())\n\u001B[0;32m      7\u001B[0m \u001B[38;5;66;03m#返回gpu数量；\u001B[39;00m\n\u001B[1;32m----> 9\u001B[0m \u001B[38;5;28mprint\u001B[39m(\u001B[43mtorch\u001B[49m\u001B[38;5;241;43m.\u001B[39;49m\u001B[43mcuda\u001B[49m\u001B[38;5;241;43m.\u001B[39;49m\u001B[43mget_device_name\u001B[49m\u001B[43m(\u001B[49m\u001B[38;5;241;43m0\u001B[39;49m\u001B[43m)\u001B[49m)\n\u001B[0;32m     10\u001B[0m \u001B[38;5;66;03m#返回gpu名字，设备索引默认从0开始；\u001B[39;00m\n\u001B[0;32m     12\u001B[0m \u001B[38;5;28mprint\u001B[39m(torch\u001B[38;5;241m.\u001B[39mcuda\u001B[38;5;241m.\u001B[39mcurrent_device())\n",
      "File \u001B[1;32mD:\\python-venv\\STEP\\venv\\lib\\site-packages\\torch\\cuda\\__init__.py:341\u001B[0m, in \u001B[0;36mget_device_name\u001B[1;34m(device)\u001B[0m\n\u001B[0;32m    329\u001B[0m \u001B[38;5;28;01mdef\u001B[39;00m \u001B[38;5;21mget_device_name\u001B[39m(device: Optional[_device_t] \u001B[38;5;241m=\u001B[39m \u001B[38;5;28;01mNone\u001B[39;00m) \u001B[38;5;241m-\u001B[39m\u001B[38;5;241m>\u001B[39m \u001B[38;5;28mstr\u001B[39m:\n\u001B[0;32m    330\u001B[0m     \u001B[38;5;124mr\u001B[39m\u001B[38;5;124;03m\"\"\"Gets the name of a device.\u001B[39;00m\n\u001B[0;32m    331\u001B[0m \n\u001B[0;32m    332\u001B[0m \u001B[38;5;124;03m    Args:\u001B[39;00m\n\u001B[1;32m   (...)\u001B[0m\n\u001B[0;32m    339\u001B[0m \u001B[38;5;124;03m        str: the name of the device\u001B[39;00m\n\u001B[0;32m    340\u001B[0m \u001B[38;5;124;03m    \"\"\"\u001B[39;00m\n\u001B[1;32m--> 341\u001B[0m     \u001B[38;5;28;01mreturn\u001B[39;00m \u001B[43mget_device_properties\u001B[49m\u001B[43m(\u001B[49m\u001B[43mdevice\u001B[49m\u001B[43m)\u001B[49m\u001B[38;5;241m.\u001B[39mname\n",
      "File \u001B[1;32mD:\\python-venv\\STEP\\venv\\lib\\site-packages\\torch\\cuda\\__init__.py:371\u001B[0m, in \u001B[0;36mget_device_properties\u001B[1;34m(device)\u001B[0m\n\u001B[0;32m    361\u001B[0m \u001B[38;5;28;01mdef\u001B[39;00m \u001B[38;5;21mget_device_properties\u001B[39m(device: _device_t) \u001B[38;5;241m-\u001B[39m\u001B[38;5;241m>\u001B[39m _CudaDeviceProperties:\n\u001B[0;32m    362\u001B[0m     \u001B[38;5;124mr\u001B[39m\u001B[38;5;124;03m\"\"\"Gets the properties of a device.\u001B[39;00m\n\u001B[0;32m    363\u001B[0m \n\u001B[0;32m    364\u001B[0m \u001B[38;5;124;03m    Args:\u001B[39;00m\n\u001B[1;32m   (...)\u001B[0m\n\u001B[0;32m    369\u001B[0m \u001B[38;5;124;03m        _CudaDeviceProperties: the properties of the device\u001B[39;00m\n\u001B[0;32m    370\u001B[0m \u001B[38;5;124;03m    \"\"\"\u001B[39;00m\n\u001B[1;32m--> 371\u001B[0m     \u001B[43m_lazy_init\u001B[49m\u001B[43m(\u001B[49m\u001B[43m)\u001B[49m  \u001B[38;5;66;03m# will define _get_device_properties\u001B[39;00m\n\u001B[0;32m    372\u001B[0m     device \u001B[38;5;241m=\u001B[39m _get_device_index(device, optional\u001B[38;5;241m=\u001B[39m\u001B[38;5;28;01mTrue\u001B[39;00m)\n\u001B[0;32m    373\u001B[0m     \u001B[38;5;28;01mif\u001B[39;00m device \u001B[38;5;241m<\u001B[39m \u001B[38;5;241m0\u001B[39m \u001B[38;5;129;01mor\u001B[39;00m device \u001B[38;5;241m>\u001B[39m\u001B[38;5;241m=\u001B[39m device_count():\n",
      "File \u001B[1;32mD:\\python-venv\\STEP\\venv\\lib\\site-packages\\torch\\cuda\\__init__.py:221\u001B[0m, in \u001B[0;36m_lazy_init\u001B[1;34m()\u001B[0m\n\u001B[0;32m    217\u001B[0m     \u001B[38;5;28;01mraise\u001B[39;00m \u001B[38;5;167;01mRuntimeError\u001B[39;00m(\n\u001B[0;32m    218\u001B[0m         \u001B[38;5;124m\"\u001B[39m\u001B[38;5;124mCannot re-initialize CUDA in forked subprocess. To use CUDA with \u001B[39m\u001B[38;5;124m\"\u001B[39m\n\u001B[0;32m    219\u001B[0m         \u001B[38;5;124m\"\u001B[39m\u001B[38;5;124mmultiprocessing, you must use the \u001B[39m\u001B[38;5;124m'\u001B[39m\u001B[38;5;124mspawn\u001B[39m\u001B[38;5;124m'\u001B[39m\u001B[38;5;124m start method\u001B[39m\u001B[38;5;124m\"\u001B[39m)\n\u001B[0;32m    220\u001B[0m \u001B[38;5;28;01mif\u001B[39;00m \u001B[38;5;129;01mnot\u001B[39;00m \u001B[38;5;28mhasattr\u001B[39m(torch\u001B[38;5;241m.\u001B[39m_C, \u001B[38;5;124m'\u001B[39m\u001B[38;5;124m_cuda_getDeviceCount\u001B[39m\u001B[38;5;124m'\u001B[39m):\n\u001B[1;32m--> 221\u001B[0m     \u001B[38;5;28;01mraise\u001B[39;00m \u001B[38;5;167;01mAssertionError\u001B[39;00m(\u001B[38;5;124m\"\u001B[39m\u001B[38;5;124mTorch not compiled with CUDA enabled\u001B[39m\u001B[38;5;124m\"\u001B[39m)\n\u001B[0;32m    222\u001B[0m \u001B[38;5;28;01mif\u001B[39;00m _cudart \u001B[38;5;129;01mis\u001B[39;00m \u001B[38;5;28;01mNone\u001B[39;00m:\n\u001B[0;32m    223\u001B[0m     \u001B[38;5;28;01mraise\u001B[39;00m \u001B[38;5;167;01mAssertionError\u001B[39;00m(\n\u001B[0;32m    224\u001B[0m         \u001B[38;5;124m\"\u001B[39m\u001B[38;5;124mlibcudart functions unavailable. It looks like you have a broken build?\u001B[39m\u001B[38;5;124m\"\u001B[39m)\n",
      "\u001B[1;31mAssertionError\u001B[0m: Torch not compiled with CUDA enabled"
     ]
    }
   ],
   "source": [
    "import torch\n",
    " \n",
    "print(torch.cuda.is_available())\n",
    "#cuda是否可用；\n",
    " \n",
    "print(torch.cuda.device_count())\n",
    "#返回gpu数量；\n",
    " \n",
    "print(torch.cuda.get_device_name(0))\n",
    "#返回gpu名字，设备索引默认从0开始；\n",
    " \n",
    "print(torch.cuda.current_device())\n",
    "#返回当前设备索引；\n",
    "!nvidia-smi"
   ]
  },
  {
   "cell_type": "code",
   "execution_count": 2,
   "id": "05e2eeda-f725-4093-beb7-182e0cdb9350",
   "metadata": {},
   "outputs": [
    {
     "name": "stdout",
     "output_type": "stream",
     "text": [
      "nvcc: NVIDIA (R) Cuda compiler driver\n",
      "Copyright (c) 2005-2021 NVIDIA Corporation\n",
      "Built on Mon_May__3_19:41:42_Pacific_Daylight_Time_2021\n",
      "Cuda compilation tools, release 11.3, V11.3.109\n",
      "Build cuda_11.3.r11.3/compiler.29920130_0\n"
     ]
    }
   ],
   "source": [
    "!nvcc -V"
   ]
  },
  {
   "cell_type": "code",
   "execution_count": 3,
   "id": "30193bd7-c5ac-435f-9692-a29cb184cf31",
   "metadata": {},
   "outputs": [
    {
     "name": "stderr",
     "output_type": "stream",
     "text": [
      "2022-12-10 16:03:53,493 - easytorch-launcher - INFO - Launching EasyTorch training.\n",
      "Traceback (most recent call last):\n",
      "  File \"D:\\python-venv\\STEP\\step\\run.py\", line 27, in <module>\n",
      "    launch_training(args.cfg, args.gpus)\n",
      "  File \"D:\\python-venv\\STEP\\basicts\\launcher.py\", line 19, in launch_training\n",
      "    easytorch.launch_training(cfg=cfg, gpus=gpus, node_rank=node_rank)\n",
      "  File \"C:\\Users\\15158\\.conda\\envs\\STEP\\lib\\site-packages\\easytorch\\launcher\\launcher.py\", line 80, in launch_training\n",
      "    cfg = init_cfg(cfg, node_rank == 0)\n",
      "  File \"C:\\Users\\15158\\.conda\\envs\\STEP\\lib\\site-packages\\easytorch\\launcher\\launcher.py\", line 13, in init_cfg\n",
      "    cfg = import_config(cfg, verbose=save)\n",
      "  File \"C:\\Users\\15158\\.conda\\envs\\STEP\\lib\\site-packages\\easytorch\\config.py\", line 245, in import_config\n",
      "    cfg = __import__(path, fromlist=[cfg_name]).CFG\n",
      "ModuleNotFoundError: No module named \"'step\"\n"
     ]
    }
   ],
   "source": [
    "!python step/run.py --cfg='step/STEP_METR-LA.py' --gpus='1'"
   ]
  },
  {
   "cell_type": "code",
   "execution_count": null,
   "id": "90380f3b",
   "metadata": {},
   "outputs": [],
   "source": []
  },
  {
   "cell_type": "code",
   "execution_count": null,
   "id": "aacbba89-6cb3-45d8-a49d-fd905ee2c6c9",
   "metadata": {},
   "outputs": [],
   "source": []
  }
 ],
 "metadata": {
  "kernelspec": {
   "display_name": "Python 3 (ipykernel)",
   "language": "python",
   "name": "python3"
  },
  "language_info": {
   "codemirror_mode": {
    "name": "ipython",
    "version": 3
   },
   "file_extension": ".py",
   "mimetype": "text/x-python",
   "name": "python",
   "nbconvert_exporter": "python",
   "pygments_lexer": "ipython3",
   "version": "3.9.13"
  }
 },
 "nbformat": 4,
 "nbformat_minor": 5
}
